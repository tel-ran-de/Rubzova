{
 "cells": [
  {
   "cell_type": "markdown",
   "metadata": {},
   "source": [
    "Две полярные точки зрения.\n",
    "\n",
    "Алгоритмы — является истинным подлинником компьютерных наук. Такой подход часто встречается.\n",
    "Алгоритмы не нужны.\n",
    "Я скажу так: важно не знать большое количество алгоритмов, а язык, на котором обсуждаются алгоритмы\n",
    "\n",
    " \n",
    "\n",
    "Как мы помним, алгоритм — это последовательность элементарных действий для выполнения конкретной цели. \n",
    "\n",
    "Элементарные действия:  \n",
    "\n",
    "арифметические операции\n",
    "ввод строки, числа\n",
    "вывод строки, числа\n",
    "операторы сравнения\n",
    "\n",
    "\n",
    "\n",
    "Не элементарные действия:  \n",
    "цикл\n",
    "рекурсия\n",
    "\n",
    "\n",
    "\n",
    "С точки зрения теории алгоритмов, у каждого алгоритма есть входные данные (input), заложенный алгоритм, который манипулирует с входными данными и выходные данные, собственно результат манипуляций алгоритма. \n",
    "\n",
    "В качестве входных данных могут быть число или числа, строки, логические значения, комбинация разных типов данных, то есть это та информация, которая нужна алгоритму, чтобы выполнить поставленную ему задачу. \n",
    "\n",
    "Выходные данные также могут быть разного вида. Вы должны понимать, что все зависит от конкретной задачи. \n",
    "\n",
    " \n",
    "\n",
    " \n",
    "\n",
    "Сложность алгоритма?\n",
    "\n",
    "Сложные алгоритмы?\n",
    "\n",
    "Простые алгоритмы? \n",
    "\n",
    "Что такое сложность алгоритма? Сложный не имеется в виду для понимания, а имеется в виду что требуется много элементарных операций для выполнения данного алгоритма, то есть сложный для машины (компа).\n",
    "\n",
    "Сложность алгоритма разделяют на две категории:\n",
    "\n",
    "Сложность по времени (временная сложность)\n",
    "Сложность по памяти (емкостная сложность)"
   ]
  },
  {
   "cell_type": "code",
   "execution_count": null,
   "metadata": {},
   "outputs": [],
   "source": [
    "Перечислим от чего зависит время выполнения программы: \n",
    "\n",
    "количество ядер на компьютере\n",
    "скорость чтения/записи в память\n",
    "32 или 64 разрядная операционная система\n",
    "кэш процессора\n",
    "файлы подкачки\n",
    "входные данные"
   ]
  },
  {
   "cell_type": "markdown",
   "metadata": {},
   "source": [
    "Максимум из 3 - х чисел"
   ]
  },
  {
   "cell_type": "code",
   "execution_count": null,
   "metadata": {},
   "outputs": [],
   "source": [
    "public class Main {\n",
    "\n",
    "    public static void main(String[] args) {\n",
    "        biggestAmongThree(3, 6, -12);\n",
    "    }\n",
    "\n",
    "    public static void biggestAmongThree(int a, int b, int c) {\n",
    "        if (a > b && a > c) {\n",
    "            System.out.println(a);\n",
    "        }\n",
    "        if (c > a && c > b) {\n",
    "            System.out.println(c);\n",
    "        } else {\n",
    "            System.out.println(b);\n",
    "        }\n",
    "    }\n",
    "}"
   ]
  },
  {
   "cell_type": "markdown",
   "metadata": {},
   "source": [
    "Факториал"
   ]
  },
  {
   "cell_type": "code",
   "execution_count": null,
   "metadata": {},
   "outputs": [],
   "source": [
    "import java.util.Scanner;\n",
    "\n",
    "public class Main {\n",
    "\n",
    "    public static void main(String[] args) {\n",
    "        int number;\n",
    "        Scanner sc = new Scanner(System.in);\n",
    "        do {\n",
    "            System.out.println(\"Enter positive number for factorial: \");\n",
    "            number = sc.nextInt();\n",
    "        } while (number <= 0);\n",
    "        System.out.println(\"Factorial = \" + getFactorial(number));\n",
    "    }\n",
    "\n",
    "    public static int getFactorial(int number) {\n",
    "        int factorial = 1;\n",
    "        for (int i = 1; i <= number; i++) {\n",
    "            factorial *= i;\n",
    "        }\n",
    "        return factorial;\n",
    "    }\n",
    "}"
   ]
  },
  {
   "cell_type": "code",
   "execution_count": null,
   "metadata": {},
   "outputs": [],
   "source": [
    "import java.util.Scanner;\n",
    "\n",
    "public class Main {\n",
    "\n",
    "    public static void main(String[] args) {\n",
    "        Scanner sc= new Scanner(System.in);\n",
    "        int a= sc.nextInt(),\n",
    "                b=sc.nextInt(),\n",
    "                c=sc.nextInt();\n",
    "\n",
    "        int d=b*b-4*a*c;\n",
    "        if(d>0){\n",
    "            System.out.println((-b + Math.sqrt(d)) / (2 * a));\n",
    "            System.out.println((-b - Math.sqrt(d)) / (2 * a));\n",
    "        }else if (d==0){\n",
    "            System.out.println((-b)/(2*a));\n",
    "        }else{\n",
    "            System.out.println(\"решений нет\");\n",
    "        }\n",
    "        sc.close();\n",
    "    }\n",
    "}"
   ]
  },
  {
   "cell_type": "code",
   "execution_count": null,
   "metadata": {},
   "outputs": [],
   "source": [
    "import java.util.Scanner;\n",
    "\n",
    "public class Main {\n",
    "\n",
    "    public static void main(String[] args) {\n",
    "        int number;\n",
    "        Scanner sc = new Scanner(System.in);\n",
    "        do {\n",
    "            System.out.println(\"Enter positive number for factorial: \");\n",
    "            number = sc.nextInt();\n",
    "        } while (number <= 0);\n",
    "        System.out.println(\"Factorial = \" + getFactorial(number));\n",
    "    }\n",
    "\n",
    "    public static int getFactorial(int number) {\n",
    "        int factorial = 1;\n",
    "        for (int i = 1; i <= number; i++) {\n",
    "            factorial *= i;\n",
    "        }\n",
    "        return factorial;\n",
    "    }\n",
    "}"
   ]
  },
  {
   "cell_type": "markdown",
   "metadata": {},
   "source": [
    "Конспект к уроку\n",
    "1. https://drive.google.com/file/d/1tMHphnv8A6nlNU13lB0dFiP692bHLsrE/view\n",
    "2. https://drive.google.com/file/d/1niu69LxwI75H_QKaRtRuirrFZRSwa46x/view"
   ]
  },
  {
   "cell_type": "code",
   "execution_count": null,
   "metadata": {},
   "outputs": [],
   "source": [
    "\n",
    "search([1, 2, 5, 3, 7, 8, 9, 12, 13, 0], 4)\n",
    "\n",
    "search([1, 2, 5, 3, 7, 8, 9, 12, 13, 0], 1)\n",
    "\n",
    "search([1, 2, 5, 3, 7, 8, 9, 12, 13, 0], 13)\n",
    "\n",
    "search([1, 2, 5, 3, 7, 8, 9, 12, 13, 0], 5)"
   ]
  },
  {
   "cell_type": "code",
   "execution_count": null,
   "metadata": {},
   "outputs": [],
   "source": [
    "int a = 5;\n",
    "int a = a + 6;\n",
    "int b = -a;\n",
    "int c = -a - 2 * b;\n",
    "System.out.print(c);"
   ]
  },
  {
   "cell_type": "code",
   "execution_count": null,
   "metadata": {},
   "outputs": [],
   "source": [
    "O(1); O(n); O(2n2); "
   ]
  },
  {
   "cell_type": "code",
   "execution_count": null,
   "metadata": {},
   "outputs": [],
   "source": [
    "Элементарные действия:  \n",
    "\n",
    "арифметические операции\n",
    "ввод строки, числа\n",
    "вывод строки, числа\n",
    "операторы сравнения\n",
    "if\n"
   ]
  },
  {
   "cell_type": "code",
   "execution_count": null,
   "metadata": {},
   "outputs": [],
   "source": [
    "Не элементарные действия:  \n",
    "цикл\n",
    "рекурсия"
   ]
  },
  {
   "cell_type": "code",
   "execution_count": null,
   "metadata": {},
   "outputs": [],
   "source": [
    "\n",
    "\n",
    "class HelloWorld {\n",
    "    public static void main(String[] args) {\n",
    "        int a = 1;\n",
    "        int b = 2;\n",
    "        int c = 1;\n",
    "        int d=b*b-4*a*c;\n",
    "        \n",
    "        if(d>0){\n",
    "            double x1=(-b - Math.sqrt(d))/ (2 * a);\n",
    "\n",
    "            System.out.println(x1);\n",
    "            \n",
    "            System.out.println((-b - Math.sqrt(d)) / (2 * a));\n",
    "        }else if (d==0){\n",
    "            System.out.println((-b)/(2*a));\n",
    "        }else{\n",
    "            System.out.println(\"No\");\n",
    "        }\n",
    "\n",
    "    }\n",
    " \n",
    "\n",
    "}"
   ]
  },
  {
   "cell_type": "markdown",
   "metadata": {},
   "source": [
    "9\n",
    "1..9 на 3 и на 2 деляться"
   ]
  },
  {
   "cell_type": "code",
   "execution_count": null,
   "metadata": {},
   "outputs": [],
   "source": [
    "n = int(input())\n",
    "sum = 0\n",
    "for i in range(n раз):\n",
    "\tn = int(input())\n",
    "\tif n % 2 == 0 and n % 3 != 0:\n",
    "\t\tsum += n;\n",
    "\t\n",
    "print(sum)"
   ]
  },
  {
   "cell_type": "code",
   "execution_count": null,
   "metadata": {},
   "outputs": [],
   "source": [
    "\n",
    "O(n)"
   ]
  },
  {
   "cell_type": "code",
   "execution_count": null,
   "metadata": {},
   "outputs": [],
   "source": [
    "n = int(input())\n",
    "fact = 1\n",
    "for i in range(1, n + 1, 1):\n",
    "\tfact = fact * i;\n",
    "\n",
    "print(fact)"
   ]
  },
  {
   "cell_type": "code",
   "execution_count": null,
   "metadata": {},
   "outputs": [],
   "source": [
    "O(n)"
   ]
  },
  {
   "cell_type": "code",
   "execution_count": null,
   "metadata": {},
   "outputs": [],
   "source": [
    "for i in range(1, n + 1, 1):\n",
    "    for j in range(1, n + 1, 1):\n",
    "        fact = fact * i;"
   ]
  },
  {
   "cell_type": "markdown",
   "metadata": {},
   "source": [
    "Домашняя работа"
   ]
  },
  {
   "cell_type": "markdown",
   "metadata": {},
   "source": [
    "Зарегистрироваться в https://stepik.org/course/74336/syllabus и посмотреть видео, ознакомиться с конспектами"
   ]
  },
  {
   "cell_type": "markdown",
   "metadata": {},
   "source": [
    "Полезные ссылки"
   ]
  },
  {
   "cell_type": "code",
   "execution_count": null,
   "metadata": {},
   "outputs": [],
   "source": [
    "https://www.programiz.com/dsa"
   ]
  }
 ],
 "metadata": {
  "kernelspec": {
   "display_name": "Python 3",
   "language": "python",
   "name": "python3"
  },
  "language_info": {
   "codemirror_mode": {
    "name": "ipython",
    "version": 3
   },
   "file_extension": ".py",
   "mimetype": "text/x-python",
   "name": "python",
   "nbconvert_exporter": "python",
   "pygments_lexer": "ipython3",
   "version": "3.8.3"
  }
 },
 "nbformat": 4,
 "nbformat_minor": 4
}
