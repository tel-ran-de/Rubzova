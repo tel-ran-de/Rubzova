{
 "cells": [
  {
   "cell_type": "markdown",
   "metadata": {},
   "source": [
    "Лекция 1<br>\n",
    "https://www.youtube.com/watch?v=Os1ItoYrMXA&t=3s"
   ]
  },
  {
   "cell_type": "markdown",
   "metadata": {},
   "source": [
    "Лекция 2<br>\n",
    "https://youtu.be/DjGTU0i_vjU\n",
    "<br>\n",
    "https://youtu.be/eWId5rhrAEI"
   ]
  },
  {
   "cell_type": "markdown",
   "metadata": {},
   "source": [
    "Лекция 3 <br>\n",
    "https://www.youtube.com/watch?v=jOBZYEmc41k"
   ]
  },
  {
   "cell_type": "markdown",
   "metadata": {},
   "source": [
    "\n",
    "- [Вывод данных](#p0)\n",
    "    - [Стиль C](#p10)\n",
    "    - [format()](#p9)\n",
    "    - [f- строки](#p11)\n",
    "- [Условный оператор](#t3)\n",
    "    - [Логические выражения](#p3)\n",
    "    - [if else](#p4)\n",
    "- [Домашняя](#t4)\n"
   ]
  },
  {
   "cell_type": "code",
   "execution_count": null,
   "metadata": {},
   "outputs": [],
   "source": [
    "print(\"Python is very simple language\")\n",
    "print('Hello')\n",
    "print('''Python is very popular language.\n",
    "It is also friendly language.''')\n",
    "str1 = 'Wel'\n",
    "print(str1,'come') \n",
    "str1 = 'Welcome'\n",
    "str2 = 'Python'\n",
    "print(str1, str2)\n",
    "str1 = 'Python'\n",
    "str2 = ':'\n",
    "print('Welcome' + str1 + str2)"
   ]
  },
  {
   "cell_type": "markdown",
   "metadata": {},
   "source": [
    "<a id='p10'></a>\n",
    "# Стиль C"
   ]
  },
  {
   "cell_type": "code",
   "execution_count": 4,
   "metadata": {},
   "outputs": [
    {
     "name": "stdout",
     "output_type": "stream",
     "text": [
      "The value of x is 12.35\n",
      "The value of x is 12.3457\n"
     ]
    }
   ],
   "source": [
    "x = 12.3456789\n",
    "print('The value of x is %3.2f' %x)\n",
    "print('The value of x is %3.4f' %x)\n"
   ]
  },
  {
   "cell_type": "code",
   "execution_count": null,
   "metadata": {},
   "outputs": [],
   "source": [
    "str1 = 'Python'\n",
    "print(\"Welcome %s\" % str1)\n",
    "print(\"Actual Number = %d\" %15)\n",
    "print(\"Exponential equivalent of the number = %e\" %15)\n",
    "print(\"Float of the number = %f\" %15)\n",
    "print(\"Octal equivalent of the number = %o\" %15)\n",
    "print(\"Hexadecimal equivalent of the number = %x\" %15)\n",
    "str1 = 'World'\n",
    "str2 = ':'\n",
    "print(\"Python %s %s\" %(str1,str2))\n",
    "print(\"Welcome to %%Python %s\" %'language')\n",
    "print(\"Sunday\\nMonday\\nTuesday\\nWednesday\\nThursday\\nFriday\\nSaturday\")\n",
    "print(\"\"\"\n",
    "Language:\n",
    "\\t1 Python\n",
    "\\t2 Java\\n\\t3 JavaScript\n",
    "\"\"\")"
   ]
  },
  {
   "cell_type": "code",
   "execution_count": null,
   "metadata": {},
   "outputs": [],
   "source": [
    "print(\"%f\" % 5.1234567890)\n",
    "print(\"%.5f\" % 5.1234567890)\n",
    "print(\"%9.5f\" % 5.1234567890)\n",
    "print(\"%015.5f\" % 5.1234567890)\n",
    "print(\"% 9f\" % 5.1234567890)\n",
    "print(\"% 9f\" % -5.1234567890)\n",
    "print(\"%-9.4f\" % 5.1234567890)"
   ]
  },
  {
   "cell_type": "markdown",
   "metadata": {},
   "source": [
    "<a id='p9'></a>\n",
    "# format()"
   ]
  },
  {
   "cell_type": "markdown",
   "metadata": {},
   "source": [
    "### Параметры format()\n",
    "Метод format() принимает любое количество параметров. Но они делятся на два вида:\n",
    "\n",
    "- Позиционные аргументы — список параметров, доступ к которым можно получить по индексу параметра в фигурных скобках {индекс}.\n",
    "- Параметры — ключевые слова — список параметров типа ключ=значение, доступ к которым можно получить с помощью ключа параметра в фигурных скобках {ключ}.\n"
   ]
  },
  {
   "cell_type": "markdown",
   "metadata": {},
   "source": [
    "### Для позиционных аргументов"
   ]
  },
  {
   "cell_type": "markdown",
   "metadata": {},
   "source": [
    "![xkcd_python](https://pythonru.com/wp-content/uploads/2020/01/format-dlya-pozicionnyh-argumentov.jpg)"
   ]
  },
  {
   "cell_type": "code",
   "execution_count": null,
   "metadata": {},
   "outputs": [],
   "source": [
    "# Python string format() method\n",
    "\n",
    "# default(implicit) order\n",
    "default_order = \"{}, {} and {}\".format('John','Bill','Sean')\n",
    "print('\\n--- Default Order ---')\n",
    "print(default_order)\n",
    "\n",
    "# order using positional argument\n",
    "positional_order = \"{1}, {0} and {2}\".format('John','Bill','Sean')\n",
    "print('\\n--- Positional Order ---')\n",
    "print(positional_order)\n",
    "\n"
   ]
  },
  {
   "cell_type": "markdown",
   "metadata": {},
   "source": [
    "### Для аргументов-ключевых слов"
   ]
  },
  {
   "cell_type": "code",
   "execution_count": null,
   "metadata": {},
   "outputs": [],
   "source": [
    "# order using keyword argument\n",
    "keyword_order = \"{s}, {b} and {j}\".format(j='John',b='Bill',s='Sean')\n",
    "print('\\n--- Keyword Order ---')\n",
    "print(keyword_order)"
   ]
  },
  {
   "cell_type": "markdown",
   "metadata": {},
   "source": [
    "![xkcd_python](https://pythonru.com/wp-content/uploads/2020/01/format-dlya-argumentov-klyuchevyh-slov.jpg)"
   ]
  },
  {
   "cell_type": "code",
   "execution_count": null,
   "metadata": {},
   "outputs": [],
   "source": [
    "foo = 1  # Задаем значения переменных\n",
    "bar = 'bar'  # Задаем значения переменных\n",
    "baz = 3.14  # Задаем значения переменных\n",
    "print('{}, {} and {}'.format(foo, bar, baz)) # Пары в скобках заменяются аргументами в порядке их передачи \"1, bar and 3.14\"\n",
    "print('{0}, {1}, {2}, and {1}'.format(foo, bar, baz)) # Номера соответствуют индексам аргументов : \"1, bar, 3.14, and bar\" \n",
    "print('{2}, {0}, {2}, and {1}'.format(foo, bar, baz)) # Номера соответствуют индексам аргументов \n",
    "#print('{0}, {1}, {2}, and {3}'.format(foo, bar, baz))  выдает ошибку так как индекс 3 не существует\n",
    "print(\"X value is: {xx}. Y value is: {yyl}.\".format(xx=2, yyl=3)) # Можно использовать именованные аргументы \n",
    "# аргументы по умолчанию                                                                                                                                                                                 print(\"Hello {}, your balance is {}.\".format(\"Adam\", 230.2346)) \n",
    " # позиционные аргументы                                                                                                                                                                                      print(\"Hello {0}, your balance is {1}.\".format(\"Adam\", 230.2346)) \n",
    " # аргументы ключевые слова                                                                                                                                                                                print(\"Hello {name}, your balance is {blc}.\".format(name=\"Adam\", blc=230.2346)) \n",
    " # смешанные аргументы                                                                                                                                                                                       print(\"Hello {0}, your balance is {blc}.\".format(\"Adam\", blc=230.2346))\n",
    "print('{:~^20}'.format('centered')) #вы можете также включать в спецификацию формата внутри фигурных скобок.                                                                                           #Это выражение , которое следует , и особые правила должны предшествовать двоеточие ( : ).                                                                      # :~^20 ( ^ означает выравнивание по центру, общая ширина 20, подстановка символа ~ )\n",
    "\n",
    "# целочисленные аргументы\n",
    "print(\"The number is:{:d}\".format(123))\n",
    "\n",
    " # аргументы с плавающей точкой\n",
    "print(\"The float number is:{:f}\".format(123.4567898))\n",
    "\n",
    " # восьмеричный, двоичный и шестнадцатеричный формат\n",
    "print(\"bin: {0:b}, oct: {0:o}, hex: {0:x}\".format(12))\n",
    "\n",
    "# целые числа с выравниванием по правому краю\n",
    "print(\"{:5d}\".format(12))\n",
    "\n",
    " # числа с плавающей точкой с выравниванием по центру\n",
    "print(\"{:^10.3f}\".format(12.2346))\n",
    "\n",
    " # выравнивание целого числа по левому краю заполнено нулями\n",
    "print(\"{:<05d}\".format(12))\n",
    "\n",
    " # числа с плавающей точкой с выравниванием по центру\n",
    "print(\"{:=8.3f}\".format(-12.2346))\n",
    "\n",
    "# показать знак +\n",
    "print(\"{:+f} {:+f}\".format(12.23, -12.23))\n",
    "\n",
    " # показать знак -\n",
    "print(\"{:-f} {:-f}\".format(12.23, -12.23))\n",
    " # показать место для знака +\n",
    "print(\"{: f} {: f}\".format(12.23, -12.23))\n",
    "# отступ строки с выравниванием по левому краю\n",
    "print(\"{:5}\".format(\"cat\"))\n",
    " # отступ строки с выравниванием по правому краю\n",
    "print(\"{:>5}\".format(\"cat\"))\n",
    " # заполнение строк с выравниванием по центру\n",
    "print(\"{:^5}\".format(\"cat\"))\n",
    " # заполнение строк с выравниванием по центру # и '*' - символ заполнения\n",
    "print(\"{:*^5}\".format(\"cat\"))"
   ]
  },
  {
   "cell_type": "markdown",
   "metadata": {},
   "source": [
    "<a id='p11'></a>\n",
    "# f - строки"
   ]
  },
  {
   "cell_type": "markdown",
   "metadata": {},
   "source": [
    "Каждая инструкция f-строки состоит из двух частей: символа f (или F) и строки, которую нужно форматировать. Строка должна быть в одинарных, двойных или тройных кавычках."
   ]
  },
  {
   "cell_type": "code",
   "execution_count": null,
   "metadata": {},
   "outputs": [],
   "source": [
    "print(f\"{name} это {type_of_site}.\")"
   ]
  },
  {
   "cell_type": "markdown",
   "metadata": {},
   "source": [
    "Напишите программу, которая возводит введенное число в степень 10.\n",
    "\n",
    "Входные данные\n",
    "\n",
    "Входная строка содержит единственное вещественное число в диапазоне от 0 до 8.\n",
    "\n",
    "Выходные данные\n",
    "\n",
    "Нужно вывести 10-ю степень полученного числа с тремя знаками в дробной части. "
   ]
  },
  {
   "cell_type": "code",
   "execution_count": 6,
   "metadata": {},
   "outputs": [
    {
     "name": "stdout",
     "output_type": "stream",
     "text": [
      "5.667\n",
      "   34161122.003\n"
     ]
    }
   ],
   "source": [
    "a = float(input())\n",
    "print(f\"{a**10:.3f}\")"
   ]
  },
  {
   "cell_type": "markdown",
   "metadata": {},
   "source": [
    "Напишите программу, которая вводит трёхзначное число и разбивает его на цифры. Например, при вводе числа 123 программа должна вывести «1 2 3». \n",
    "\n",
    "Входные данные\n",
    "\n",
    "Входная строка содержит одно трёхзначное число.\n",
    "\n",
    "Выходные данные\n",
    "\n",
    "Программа должна вывести три цифры переданного ей числа, начиная с первой, разделённые пробелами."
   ]
  },
  {
   "cell_type": "code",
   "execution_count": 8,
   "metadata": {},
   "outputs": [
    {
     "name": "stdout",
     "output_type": "stream",
     "text": [
      "uyuuu\n",
      "u*y*u*u*u\n"
     ]
    }
   ],
   "source": [
    "a = input()\n",
    "print('*'.join(a))"
   ]
  },
  {
   "cell_type": "markdown",
   "metadata": {},
   "source": [
    "Напишите программу, которая находит сумму, произведение и среднее арифметическое трёх целых чисел, введённых с клавиатуры.\n",
    "\n",
    "Входные данные\n",
    "\n",
    "Три целых числа вводятся c новой строчки.\n",
    "\n",
    "Выходные данные\n",
    "\n",
    "Программа должна вывести сумму, произведение и среднее арифметическое введенных чисел. Среднее арифметическое нужно вывести с точностью 3 знака после десятичной"
   ]
  },
  {
   "cell_type": "markdown",
   "metadata": {},
   "source": [
    "4\n",
    "5\n",
    "7\n",
    "\n",
    "Выходные значения\n",
    "\n",
    "4+5+7=16\n",
    "4*5*7=140\n",
    "(4+5+7)/3=5.333"
   ]
  },
  {
   "cell_type": "code",
   "execution_count": 13,
   "metadata": {},
   "outputs": [
    {
     "name": "stdout",
     "output_type": "stream",
     "text": [
      "5\n",
      "6\n",
      "5\n",
      "5+6+5=16\n",
      "5*6*5=150\n",
      "(5+6+5)/3=5.333\n"
     ]
    }
   ],
   "source": [
    "x=int(input())\n",
    "y=int(input())\n",
    "z=int(input())\n",
    "print(\"{}+{}+{}={}\".format(x, y, z, (x+y+z)))\n",
    "print(f\"{x}*{y}*{z}={x*y*z}\")\n",
    "print(\"(%d+%d+%d)/3=%.3f\" % (x, y, z, (x+y+z)/3))"
   ]
  },
  {
   "cell_type": "markdown",
   "metadata": {},
   "source": [
    "Напишите программу, которая вводит радиус круга и вычисляет его площадь и длину окружности.\n",
    "\n",
    "Входные данные\n",
    "Входная строка содержит одно число - радиус круга.\n",
    "\n",
    "Выходные данные\n",
    "В первой строке должно быть выведена площадь круга, а во второй строке - длина окружности. Оба значения выводятся с тремя знаками в дробной части."
   ]
  },
  {
   "cell_type": "code",
   "execution_count": 14,
   "metadata": {},
   "outputs": [
    {
     "name": "stdout",
     "output_type": "stream",
     "text": [
      "5\n",
      "Площадь круга 78.540\n",
      "31.416\n"
     ]
    }
   ],
   "source": [
    "from math import pi\n",
    "r = float(input())\n",
    "S = pi*r*r\n",
    "print('Площадь круга %.3f' %S)\n",
    "l=2*pi*r\n",
    "print(f\"{:.3f}\")\n",
    "\n"
   ]
  },
  {
   "cell_type": "code",
   "execution_count": 10,
   "metadata": {},
   "outputs": [
    {
     "name": "stdout",
     "output_type": "stream",
     "text": [
      "3.141592653589793\n"
     ]
    }
   ],
   "source": [
    "import math\n",
    "print(math.pi)"
   ]
  },
  {
   "cell_type": "code",
   "execution_count": 12,
   "metadata": {},
   "outputs": [
    {
     "name": "stdout",
     "output_type": "stream",
     "text": [
      "3.141592653589793\n"
     ]
    }
   ],
   "source": [
    "from math import pi\n",
    "print(pi)"
   ]
  },
  {
   "cell_type": "markdown",
   "metadata": {},
   "source": [
    "<a id='t3'></a>\n",
    "# Условный оператор"
   ]
  },
  {
   "cell_type": "markdown",
   "metadata": {},
   "source": [
    "<a id='p3'></a>\n",
    "# Логические выражения"
   ]
  },
  {
   "cell_type": "markdown",
   "metadata": {},
   "source": [
    "<pre>\n",
    "\n",
    "    !=                  ==                  >=                  <=  \n",
    "    <                   >                   or                  and\n",
    "    not()\n",
    "\n",
    "</pre>"
   ]
  },
  {
   "cell_type": "code",
   "execution_count": 15,
   "metadata": {},
   "outputs": [
    {
     "name": "stdout",
     "output_type": "stream",
     "text": [
      "True\n",
      "False\n"
     ]
    }
   ],
   "source": [
    "var = 0  # Assigning 0 to var\n",
    "print(var == 0)\n",
    "\n",
    "var = 1  # Assigning 1 to var\n",
    "print(var == 0)"
   ]
  },
  {
   "cell_type": "code",
   "execution_count": 16,
   "metadata": {},
   "outputs": [
    {
     "name": "stdout",
     "output_type": "stream",
     "text": [
      "False\n",
      "True\n"
     ]
    }
   ],
   "source": [
    "var = 0  # Assigning 0 to var\n",
    "print(var != 0)\n",
    "\n",
    "var = 1  # Assigning 1 to var\n",
    "print(var != 0)"
   ]
  },
  {
   "cell_type": "markdown",
   "metadata": {},
   "source": [
    "Используя один из операторов сравнения в Python, напишите простую двухстрочную программу, которая принимает в качестве входных данных параметр n, являющийся целым числом, и выводит False, если n меньше 100, и True, если n больше или равно 100."
   ]
  },
  {
   "cell_type": "markdown",
   "metadata": {},
   "source": [
    "<pre>\n",
    "Sample input: 55\n",
    "\n",
    "Expected output: False\n",
    "\n",
    "Sample input: 99\n",
    "\n",
    "Expected output: False\n",
    "\n",
    "Sample input: 100\n",
    "\n",
    "Expected output: True\n",
    "\n",
    "Sample input: 101\n",
    "\n",
    "Expected output: True\n",
    "\n",
    "Sample input: -5\n",
    "\n",
    "Expected output: False\n",
    "\n",
    "Sample input: +123\n",
    "\n",
    "Expected output: True\n",
    "\n",
    "</pre>"
   ]
  },
  {
   "cell_type": "code",
   "execution_count": 17,
   "metadata": {},
   "outputs": [
    {
     "name": "stdout",
     "output_type": "stream",
     "text": [
      "55\n",
      "False\n"
     ]
    }
   ],
   "source": [
    "n=int(input())\n",
    "print(n>=100)"
   ]
  },
  {
   "cell_type": "markdown",
   "metadata": {},
   "source": [
    "<a id='p3'></a>\n",
    "# if-else"
   ]
  },
  {
   "cell_type": "markdown",
   "metadata": {},
   "source": [
    "![xkcd_python](https://cdn.techbeamers.com/wp-content/uploads/2018/08/Python-Decision-Making-If-Elif-Else-Statements.png)"
   ]
  },
  {
   "cell_type": "markdown",
   "metadata": {},
   "source": [
    " if Условие:\n",
    " \n",
    "     Блок инструкций 1\n",
    "     \n",
    " else:\n",
    " \n",
    "     Блок инструкций 2"
   ]
  },
  {
   "cell_type": "code",
   "execution_count": 18,
   "metadata": {},
   "outputs": [
    {
     "name": "stdout",
     "output_type": "stream",
     "text": [
      "-9\n",
      "9\n"
     ]
    }
   ],
   "source": [
    "x = int(input())\n",
    "if x < 0:\n",
    "    x = (-1)*x\n",
    "print(x)"
   ]
  },
  {
   "cell_type": "code",
   "execution_count": 20,
   "metadata": {},
   "outputs": [
    {
     "name": "stdout",
     "output_type": "stream",
     "text": [
      "go_for_a_walk\n",
      "have_lunch\n"
     ]
    }
   ],
   "source": [
    "the_weather_is_good=1\n",
    "if the_weather_is_good==1:\n",
    "    print('go_for_a_walk')\n",
    "else:\n",
    "    print('go_to_a_theater')\n",
    "print('have_lunch')\n"
   ]
  },
  {
   "cell_type": "code",
   "execution_count": null,
   "metadata": {},
   "outputs": [],
   "source": [
    "if the_weather_is_good:\n",
    "    print('go_for_a_walk')\n",
    "    print('have_fun')\n",
    "else:\n",
    "    print('go_to_a_theater')\n",
    "    print('enjoy_the_movie')\n",
    "print('have_lunch')"
   ]
  },
  {
   "cell_type": "code",
   "execution_count": null,
   "metadata": {},
   "outputs": [],
   "source": [
    "#Вложенные условные инструкции\n",
    "x = int(input())\n",
    "y = int(input())\n",
    "if x > 0:\n",
    "    if y > 0:               # x > 0, y > 0\n",
    "        print(\"Первая четверть\")\n",
    "    else:                   # x > 0, y < 0\n",
    "        print(\"Четвертая четверть\")\n",
    "else:\n",
    "    if y > 0:               # x < 0, y > 0\n",
    "        print(\"Вторая четверть\")\n",
    "    else:                   # x < 0, y < 0\n",
    "        print(\"Третья четверть\")"
   ]
  },
  {
   "cell_type": "code",
   "execution_count": null,
   "metadata": {},
   "outputs": [],
   "source": [
    "# Каскадные условные инструкции\n",
    "x = int(input())\n",
    "y = int(input())\n",
    "if x > 0 and y > 0:\n",
    "    print(\"Первая четверть\")\n",
    "elif x > 0 and y < 0:\n",
    "    print(\"Четвертая четверть\")\n",
    "elif y > 0:\n",
    "    print(\"Вторая четверть\")\n",
    "else:\n",
    "    print(\"Третья четверть\")"
   ]
  },
  {
   "cell_type": "markdown",
   "metadata": {},
   "source": [
    "Рассмотрим примеры.Все примеры решают одну и ту же задачу — находят наибольшее из нескольких чисел и выводят его на печать."
   ]
  },
  {
   "cell_type": "code",
   "execution_count": null,
   "metadata": {},
   "outputs": [],
   "source": [
    "# Read two numbers\n",
    "number1 = int(input(\"Enter the first number: \"))\n",
    "number2 = int(input(\"Enter the second number: \"))\n",
    "\n",
    "# Choose the larger number\n",
    "if number1 > number2:\n",
    "    larger_number = number1\n",
    "else:\n",
    "    larger_number = number2\n",
    "\n",
    "# Print the result\n",
    "print(\"The larger number is:\", larger_number)\n",
    "\n"
   ]
  },
  {
   "cell_type": "markdown",
   "metadata": {},
   "source": [
    "Этот стиль, однако, может вводить в заблуждение, и мы не собираемся использовать его в наших будущих программах, но его определенно стоит знать, если вы хотите читать и понимать чужие программы.\n",
    "\n",
    "Других отличий в коде нет."
   ]
  },
  {
   "cell_type": "code",
   "execution_count": null,
   "metadata": {},
   "outputs": [],
   "source": [
    "# Read two numbers\n",
    "number1 = int(input(\"Enter the first number: \"))\n",
    "number2 = int(input(\"Enter the second number: \"))\n",
    "\n",
    "# Choose the larger number\n",
    "if number1 > number2: larger_number = number1\n",
    "else: larger_number = number2\n",
    "\n",
    "# Print the result\n",
    "print(\"The larger number is:\", larger_number)\n",
    "\n"
   ]
  },
  {
   "cell_type": "code",
   "execution_count": null,
   "metadata": {},
   "outputs": [],
   "source": []
  },
  {
   "cell_type": "code",
   "execution_count": null,
   "metadata": {},
   "outputs": [],
   "source": [
    "# Read three numbers\n",
    "number1 = int(input(\"Enter the first number: \"))\n",
    "number2 = int(input(\"Enter the second number: \"))\n",
    "number3 = int(input(\"Enter the third number: \"))\n",
    "\n",
    "# We temporarily assume that the first number\n",
    "# is the largest one.\n",
    "# We will verify this soon.\n",
    "largest_number = number1\n",
    "\n",
    "# We check if the second number is larger than current largest_number\n",
    "# and update largest_number if needed.\n",
    "if number2 > largest_number:\n",
    "    largest_number = number2\n",
    "\n",
    "# We check if the third number is larger than current largest_number\n",
    "# and update largest_number if needed.\n",
    "if number3 > largest_number:\n",
    "    largest_number = number3\n",
    "\n",
    "# Print the result\n",
    "print(\"The largest number is:\", largest_number)\n",
    "\n"
   ]
  },
  {
   "cell_type": "code",
   "execution_count": null,
   "metadata": {},
   "outputs": [],
   "source": [
    "# Read three numbers\n",
    "number1 = int(input(\"Enter the first number: \"))\n",
    "number2 = int(input(\"Enter the second number: \"))\n",
    "number3 = int(input(\"Enter the third number: \"))\n",
    "\n",
    "# We temporarily assume that the first number\n",
    "# is the largest one.\n",
    "# We will verify this soon.\n",
    "largest_number = number1\n",
    "\n",
    "# We check if the second number is larger than current largest_number\n",
    "# and update largest_number if needed.\n",
    "if number2 > largest_number:\n",
    "    largest_number = number2\n",
    "\n",
    "# We check if the third number is larger than current largest_number\n",
    "# and update largest_number if needed.\n",
    "if number3 > largest_number:\n",
    "    largest_number = number3\n",
    "\n",
    "# Print the result\n",
    "print(\"The largest number is:\", largest_number)\n",
    "\n"
   ]
  },
  {
   "cell_type": "markdown",
   "metadata": {},
   "source": [
    "Требуется определить, является ли данный год високосным. (Напомним, что год является високосным, если его номер кратен 4, но не кратен 100, а также если он кратен 400.)\n",
    "\n",
    "Входные данные\n",
    "Вводится единственное число - номер года (целое, положительное, не превышает 30000).\n",
    "\n",
    "Выходные данные\n",
    "Требуется вывести слово YES, если год является високосным и NO - в противном случае.<br>\n",
    "2007<br>\n",
    "NO<br>\n",
    "2000<br>\n",
    "YES"
   ]
  },
  {
   "cell_type": "markdown",
   "metadata": {},
   "source": [
    "В математике функция sign(x) (знак числа) определена так:\n",
    "\n",
    "sign(x) = 1, если x > 0,\n",
    "\n",
    "sign(x) = -1, если x < 0,\n",
    "\n",
    "sign(x) = 0, если x = 0."
   ]
  },
  {
   "cell_type": "code",
   "execution_count": null,
   "metadata": {},
   "outputs": [],
   "source": []
  },
  {
   "cell_type": "markdown",
   "metadata": {},
   "source": [
    "Даны три целых числа. Определите, сколько среди них совпадающих. Программа должна вывести одно из чисел: 3 (если все совпадают), 2 (если два совпадает) или 0 (если все числа различны)."
   ]
  },
  {
   "cell_type": "code",
   "execution_count": null,
   "metadata": {},
   "outputs": [],
   "source": []
  },
  {
   "cell_type": "markdown",
   "metadata": {},
   "source": [
    "Напишите программу, которая вводит номер месяца и выводит название времени года на английском языке. При вводе неверного номера месяца должно быть выведено слово 'NO'.\n",
    "\n",
    "Входные данные\n",
    "\n",
    "Входная строка содержит единственное число – номер месяца (возможно, неверный).\n",
    "\n",
    "Выходные данные\n",
    "\n",
    "Нужно вывести название времени года (на английском языке), соответствующее введённому номеру месяца ('winter' – зима, 'spring' – весна, 'summer' – лето, 'autumn' – осень). Если введён неверный номер месяца, программы должна вывести слово 'NO'."
   ]
  },
  {
   "cell_type": "code",
   "execution_count": null,
   "metadata": {},
   "outputs": [],
   "source": []
  },
  {
   "cell_type": "markdown",
   "metadata": {},
   "source": [
    "Спатифиллум, более известный как мирная лилия или белый парус, является одним из самых популярных комнатных растений, отфильтровывающих вредные токсины из воздуха. Некоторые из токсинов, которые он нейтрализует, включают бензол, формальдегид и аммиак.\n",
    "\n",
    "Представьте, что ваша компьютерная программа любит эти растения. Всякий раз, когда он получает ввод в виде слова спатифиллум, он невольно выкрикивает в консоль следующую строку: «Спатифиллум — лучшее растение на свете!»\n"
   ]
  },
  {
   "cell_type": "code",
   "execution_count": null,
   "metadata": {},
   "outputs": [],
   "source": []
  },
  {
   "cell_type": "markdown",
   "metadata": {},
   "source": [
    "Можно расширить оператор на несколько строк с помощью символа продолжения строки (\\)"
   ]
  },
  {
   "cell_type": "code",
   "execution_count": 6,
   "metadata": {},
   "outputs": [
    {
     "data": {
      "text/plain": [
       "45"
      ]
     },
     "execution_count": 6,
     "metadata": {},
     "output_type": "execute_result"
    }
   ],
   "source": [
    "a = 1 + 2 + 3 + \\\n",
    "    4 + 5 + 6 + \\\n",
    "    7 + 8 + 9\n",
    "a"
   ]
  },
  {
   "cell_type": "code",
   "execution_count": 8,
   "metadata": {},
   "outputs": [
    {
     "data": {
      "text/plain": [
       "45"
      ]
     },
     "execution_count": 8,
     "metadata": {},
     "output_type": "execute_result"
    }
   ],
   "source": [
    "a = (1 + 2 + 3 +\n",
    "    4 + 5 + 6 +\n",
    "    7 + 8 + 9)\n",
    "a"
   ]
  },
  {
   "cell_type": "markdown",
   "metadata": {},
   "source": [
    "<a id='t4'></a>\n",
    "# Домашняя работа"
   ]
  },
  {
   "cell_type": "markdown",
   "metadata": {},
   "source": [
    "Прислать логины сайта https://informatics.msk.ru/\n",
    "Продублировать домашнее задание на github и выслать. (Даже в случае проверки)"
   ]
  },
  {
   "cell_type": "markdown",
   "metadata": {},
   "source": [
    "Задача №2937. Следующее и предыдущее\n",
    "https://informatics.msk.ru/mod/statements/view.php?id=2296&chapterid=2937#1"
   ]
  },
  {
   "cell_type": "markdown",
   "metadata": {},
   "source": [
    "Задача №3467. Парты\n",
    "https://informatics.msk.ru/mod/statements/view.php?id=3309&chapterid=3467#1"
   ]
  },
  {
   "cell_type": "markdown",
   "metadata": {},
   "source": [
    "Задача №112161. Времена года\n",
    "https://informatics.msk.ru/mod/statements/view.php?id=11144&chapterid=112161#1"
   ]
  },
  {
   "cell_type": "markdown",
   "metadata": {},
   "source": [
    "Задача №112162. Сколько дней в месяце\n",
    "https://informatics.msk.ru/mod/statements/view.php?id=11144&chapterid=112162#1"
   ]
  },
  {
   "cell_type": "markdown",
   "metadata": {},
   "source": [
    "Задача №112160. Равные числа https://informatics.msk.ru/mod/statements/view.php?id=11144&chapterid=112160#1"
   ]
  },
  {
   "cell_type": "markdown",
   "metadata": {},
   "source": [
    "Задача №112147. 10-я степень\n",
    "https://informatics.msk.ru/mod/statements/view.php?id=11098&chapterid=112147#1"
   ]
  },
  {
   "cell_type": "markdown",
   "metadata": {},
   "source": [
    "Задача №295. Существует ли треугольник? https://informatics.msk.ru/mod/statements/view.php?id=276&chapterid=295#1"
   ]
  },
  {
   "cell_type": "code",
   "execution_count": null,
   "metadata": {},
   "outputs": [],
   "source": []
  }
 ],
 "metadata": {
  "kernelspec": {
   "display_name": "Python 3",
   "language": "python",
   "name": "python3"
  },
  "language_info": {
   "codemirror_mode": {
    "name": "ipython",
    "version": 3
   },
   "file_extension": ".py",
   "mimetype": "text/x-python",
   "name": "python",
   "nbconvert_exporter": "python",
   "pygments_lexer": "ipython3",
   "version": "3.8.3"
  }
 },
 "nbformat": 4,
 "nbformat_minor": 4
}
