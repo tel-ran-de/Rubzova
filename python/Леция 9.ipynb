{
 "cells": [
  {
   "cell_type": "code",
   "execution_count": null,
   "metadata": {},
   "outputs": [],
   "source": [
    "def sch(num): \n",
    "    \"\"\"это функция смму\"\"\"\n",
    "    s=0\n",
    "    while num!=0:\n",
    "        s+= num % 10\n",
    "        num = num // 10\n",
    "    return s\n",
    "\n",
    "print(sch.__doc__)"
   ]
  },
  {
   "cell_type": "code",
   "execution_count": null,
   "metadata": {},
   "outputs": [],
   "source": [
    "def sch(num): \n",
    "    \"\"\"это функция смму\"\"\"\n",
    "    s=0\n",
    "    while num!=0:\n",
    "        s+= num % 10\n",
    "        num = num // 10\n",
    "    return s\n",
    "\n",
    "print(sch.__doc__)\n",
    "n =int(input())\n",
    "z=sch(n)\n",
    "print(z)\n",
    "print(sch(555))"
   ]
  },
  {
   "cell_type": "code",
   "execution_count": null,
   "metadata": {},
   "outputs": [],
   "source": [
    "def power(num,st): \n",
    "    return num**st\n",
    "\n",
    "num =int(input())  \n",
    "st =int(input())\n",
    "print(power(num,st))"
   ]
  },
  {
   "cell_type": "code",
   "execution_count": null,
   "metadata": {},
   "outputs": [],
   "source": [
    "import math\n",
    "def distance(x1, y1, x2, y2):\n",
    "    return math.sqrt((x1-x2)**2+(y1-y2)**2)\n",
    "\n",
    "a1,b1,a2,b2=float(input()), float(input()),float(input()), float(input())\n",
    "print(distance(a1, b1, a2, b2))"
   ]
  },
  {
   "cell_type": "code",
   "execution_count": null,
   "metadata": {},
   "outputs": [],
   "source": [
    "def minimum(a, b):\n",
    "    \"\"\" hhhh \"\"\"\n",
    "    if a < b:\n",
    "        return  a\n",
    "    else:\n",
    "        return  b\n",
    "\n",
    "\n",
    "a1, b1, a2, b2 = map (int, input().split())\n",
    "print(minimum(minimum(a1, b1), minimum(a2, b2)))"
   ]
  },
  {
   "cell_type": "code",
   "execution_count": null,
   "metadata": {},
   "outputs": [],
   "source": [
    "import string\n",
    "def bukv(a, b):\n",
    "    otvet=set(string.ascii_uppercase) - (a|b)\n",
    "    if len(otvet)==0:\n",
    "        print(0)\n",
    "    else:\n",
    "        print(''.join(sorted(otvet)))\n",
    "\n",
    "stroka1,stroka2 = set(input().upper()), set(input().upper())\n",
    "bukv(stroka1,stroka2)"
   ]
  },
  {
   "cell_type": "code",
   "execution_count": null,
   "metadata": {},
   "outputs": [],
   "source": [
    "def xor(a,b):\n",
    "    if a==b:\n",
    "        return 0\n",
    "    else:\n",
    "        return 1\n",
    "        \n",
    "x,y = map(int, input().split())\n",
    "print(xor(x,y))"
   ]
  },
  {
   "cell_type": "code",
   "execution_count": null,
   "metadata": {},
   "outputs": [],
   "source": [
    "a = input()\n",
    "digit_set = set()\n",
    "all_digits = set('0123456789')\n",
    "for i in a:\n",
    "    if i.isdigit():\n",
    "        digit_set.add(i)\n",
    "t=all_digits-digit_set \n",
    "if len(t)!=0:\n",
    "    print(''.join(sorted(t, reverse=True)))\n",
    "else:\n",
    "    print('NO')"
   ]
  },
  {
   "cell_type": "code",
   "execution_count": null,
   "metadata": {},
   "outputs": [],
   "source": [
    "https://docs.python.org/3/library/index.html\n",
    "https://www.netacad.com/  \n",
    "https://www.netacad.com/courses/programming"
   ]
  },
  {
   "cell_type": "code",
   "execution_count": null,
   "metadata": {},
   "outputs": [],
   "source": [
    "ДЗ\n",
    "https://informatics.msk.ru/mod/statements/view.php?id=26735&chapterid=113654#1"
   ]
  }
 ],
 "metadata": {
  "kernelspec": {
   "display_name": "Python 3",
   "language": "python",
   "name": "python3"
  },
  "language_info": {
   "codemirror_mode": {
    "name": "ipython",
    "version": 3
   },
   "file_extension": ".py",
   "mimetype": "text/x-python",
   "name": "python",
   "nbconvert_exporter": "python",
   "pygments_lexer": "ipython3",
   "version": "3.8.3"
  }
 },
 "nbformat": 4,
 "nbformat_minor": 4
}
