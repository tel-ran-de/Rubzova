{
 "cells": [
  {
   "cell_type": "markdown",
   "metadata": {},
   "source": [
    "\n",
    "\n",
    "https://us02web.zoom.us/rec/share/8-tQlkwG8f5vpIq5tAAyOWxCW0xfX3AZAGKBhLaFWxepbu6YpenX3fDMQkyEcotn._nu4yaWqdnIWKsBp (Passcode: CYE3%bDX)\n",
    "\n",
    "    "
   ]
  },
  {
   "cell_type": "markdown",
   "metadata": {},
   "source": [
    "- [Повторение](#t1)\n",
    "    - [Типы данных](#p1)\n",
    "- [Функции](#p0)\n",
    "    - [Встроенные функции](#t2)\n",
    "    - [input()](#t22)\n",
    "    - [print()](#p1)\n",
    "    - [String](#p2)\n",
    "    - [Стиль C](#p10)\n",
    "    - [format()](#p9)\n",
    "    - [f- строки](#p11)\n",
    "- [Условный оператор](#t3)\n",
    "    - [Логические выражения](#p3)\n",
    "    - [if else](#p4)\n",
    "- [Циклы](#t4)"
   ]
  },
  {
   "cell_type": "code",
   "execution_count": null,
   "metadata": {},
   "outputs": [],
   "source": []
  },
  {
   "cell_type": "code",
   "execution_count": null,
   "metadata": {},
   "outputs": [],
   "source": []
  },
  {
   "cell_type": "markdown",
   "metadata": {},
   "source": [
    "# Вложенные циклы"
   ]
  },
  {
   "cell_type": "markdown",
   "metadata": {},
   "source": [
    " Выведите на экран таблицу умножения чисел от 1 до 9."
   ]
  },
  {
   "cell_type": "markdown",
   "metadata": {},
   "source": [
    " Выведите на экран таблицу сложения чисел от 1 до 9, т.е. каждый элемент таблицы это значение суммы индекса строки и столбца."
   ]
  },
  {
   "cell_type": "markdown",
   "metadata": {},
   "source": [
    " Выведите на экран таблицу степеней числа a в степени b, где a и b - числа от 1 до 5, т.е. каждый элемент таблицы это значение индекса строки, возведенное в степень равное индексу столбца"
   ]
  },
  {
   "cell_type": "markdown",
   "metadata": {},
   "source": [
    " Выведите на экран таблицу деления числа a на число b, где a и b - числа от 1 до 5, т.е. каждый элемент таблицы это значение частного от деления индекса строки на индекс столбца с точностью 2 знака после запятой. Для форматирования вывода дробного числа используйте функцию round(x, 2) Эта функция принимает на вход число x и количество знаков после запятой, которые нужно оставить при выводе. В данном случае это 2."
   ]
  },
  {
   "cell_type": "markdown",
   "metadata": {},
   "source": [
    "Программа получает на вход натуральное число N (1 ≤ N ≤100). Выведите на экран таблицу размером NxN, заполненную по следующему правилу: строка с индексом 0 и N-1 заполнена 1, все остальные строки 0.\n",
    "\n",
    "Пример\n",
    "\n",
    "Входные значения \n",
    "\n",
    "4 \n",
    "\n",
    "Выходные данные\n",
    "\n",
    "1 1 1 1 \n",
    "\n",
    "0 0 0 0\n",
    "\n",
    "0 0 0 0\n",
    "\n",
    "1 1 1 1"
   ]
  },
  {
   "cell_type": "code",
   "execution_count": 4,
   "metadata": {},
   "outputs": [
    {
     "name": "stdout",
     "output_type": "stream",
     "text": [
      "4\n",
      "1 1 1 1 \n",
      "0 0 0 0 \n",
      "0 0 0 0 \n",
      "1 1 1 1 \n"
     ]
    }
   ],
   "source": [
    "n= int(input())\n",
    "for i in range(n):\n",
    "    for j in range(n):\n",
    "        if i ==0 or i ==n-1:\n",
    "            print(1, end = ' ')\n",
    "        else:\n",
    "            print(0, end=' ')\n",
    "    print()\n"
   ]
  },
  {
   "cell_type": "markdown",
   "metadata": {},
   "source": [
    "№10. Программа получает на вход натуральное число N (1 ≤ N ≤100). Выведите на экран таблицу размером NxN, заполненную по следующему правилу: ко краям таблицы стоят 1, а в середине 0.\n",
    "\n",
    "Пример\n",
    "\n",
    "Входные значения\n",
    "\n",
    "4 \n",
    "\n",
    " Выходные значения\n",
    " \n",
    " 1 1 1 1 \n",
    " \n",
    " 1 0 0 1 \n",
    " \n",
    " 1 0 0 1 \n",
    " \n",
    " 1 1 1 1"
   ]
  },
  {
   "cell_type": "code",
   "execution_count": 5,
   "metadata": {},
   "outputs": [
    {
     "name": "stdout",
     "output_type": "stream",
     "text": [
      "4\n",
      "1 1 1 1 \n",
      "1 0 0 1 \n",
      "1 0 0 1 \n",
      "1 1 1 1 \n"
     ]
    }
   ],
   "source": [
    "n= int(input())\n",
    "for i in range(n):\n",
    "    for j in range(n):\n",
    "        if i ==0 or i ==n-1 or j==0 or j==n-1 :\n",
    "            print(1, end = ' ')\n",
    "        else:\n",
    "            print(0, end=' ')\n",
    "    print()"
   ]
  },
  {
   "cell_type": "code",
   "execution_count": null,
   "metadata": {},
   "outputs": [],
   "source": [
    "Программа получает на вход натуральное число N (1 ≤ N ≤100). Выведите на экран таблицу размером NxN, по углам которой стоят 1, все остальные элементы 0.\n",
    "\n",
    "Пример\n",
    "\n",
    "Входные значения \n",
    "4 \n",
    "Выходные значения\n",
    "\n",
    "1 0 0 1 \n",
    "\n",
    "0 0 0 0 \n",
    "\n",
    "0 0 0 0 \n",
    "\n",
    "1 0 0 1"
   ]
  },
  {
   "cell_type": "code",
   "execution_count": 7,
   "metadata": {},
   "outputs": [
    {
     "name": "stdout",
     "output_type": "stream",
     "text": [
      "4\n",
      "1 0 0 1 \n",
      "0 0 0 0 \n",
      "0 0 0 0 \n",
      "1 0 0 1 \n"
     ]
    }
   ],
   "source": [
    "n= int(input())\n",
    "for i in range(n):\n",
    "    for j in range(n):\n",
    "        if (i ==0 and j==0)  or (i==0 and j==n-1) or (i ==n-1 and j==0)  or (i==n-1 and j==n-1) :\n",
    "            print(1, end = ' ')\n",
    "        else:\n",
    "            print(0, end=' ')\n",
    "    print()"
   ]
  },
  {
   "cell_type": "code",
   "execution_count": null,
   "metadata": {},
   "outputs": [],
   "source": [
    "Программа получает на вход натуральное число N (2 ≤ N ≤100, N - четное). Выведите на экран таблицу размером NxN, верхняя половина которой заполнена 1, а нижняя 0.\n",
    "\n",
    "Пример\n",
    "\n",
    "Входные значения \n",
    "\n",
    "4 \n",
    "Выходные значения\n",
    "\n",
    "1 1 1 1\n",
    "\n",
    "1 1 1 1 \n",
    "\n",
    "0 0 0 0 \n",
    "\n",
    "0 0 0 0"
   ]
  },
  {
   "cell_type": "code",
   "execution_count": null,
   "metadata": {},
   "outputs": [],
   "source": []
  },
  {
   "cell_type": "markdown",
   "metadata": {},
   "source": [
    "Программа получает на вход натуральное число N (2 ≤ N ≤100, N - четное). Выведите на экран таблицу размером NxN, верхняя четверть заполнена 1, а все остальные элементы 0.\n",
    "\n",
    "Пример\n",
    "\n",
    "Входные значения\n",
    "\n",
    "4  \n",
    "Выходные значения\n",
    "1 1 0 0 \n",
    "\n",
    "1 1 0 0 \n",
    "\n",
    "0 0 0 0 \n",
    "\n",
    "0 0 0 0"
   ]
  },
  {
   "cell_type": "code",
   "execution_count": null,
   "metadata": {},
   "outputs": [],
   "source": []
  },
  {
   "cell_type": "markdown",
   "metadata": {},
   "source": [
    "Программа получает на вход натуральное число N (3 ≤ N ≤100, N - нечетное). Выведите на экран таблицу размером NxN, средний столбец и средняя строка которой заполнены единицами, все остальные элементы нули.\n",
    "\n",
    "Пример\n",
    "\n",
    "Входные значения \n",
    "\n",
    "5 \n",
    "Выходные значения\n",
    "0 0 1 0 0 \n",
    "\n",
    "0 0 1 0 0 \n",
    "\n",
    "1 1 1 1 1\n",
    "\n",
    "0 0 1 0 0 \n",
    "\n",
    "0 0 1 0 0"
   ]
  },
  {
   "cell_type": "code",
   "execution_count": null,
   "metadata": {},
   "outputs": [],
   "source": []
  },
  {
   "cell_type": "code",
   "execution_count": null,
   "metadata": {},
   "outputs": [],
   "source": [
    "Программа получает на вход натуральное число N (1 ≤ N ≤100). Выведите на экран таблицу размером NxN, в которой на главной диагонали стоят 1, а все остальные места заполнен 0.\n",
    "\n",
    "Пример\n",
    "\n",
    "Входные значения \n",
    "\n",
    "4 \n",
    "Выходные значения\n",
    "\n",
    "1 0 0 0 \n",
    "\n",
    "0 1 0 0 \n",
    "\n",
    "0 0 1 0 \n",
    "\n",
    "0 0 0 1"
   ]
  },
  {
   "cell_type": "code",
   "execution_count": null,
   "metadata": {},
   "outputs": [],
   "source": []
  },
  {
   "cell_type": "code",
   "execution_count": null,
   "metadata": {},
   "outputs": [],
   "source": [
    "Программа получает на вход натуральное число N (1 ≤ N ≤100). Выведите на экран таблицу размером NxN, в которой на главной диагонали и ниже стоят 1, а все остальные места заполнен 0.\n",
    "\n",
    "Пример\n",
    "\n",
    "Входные значения \n",
    "\n",
    "4 \n",
    "\n",
    "Выходные значения\n",
    "\n",
    "1 0 0 0\n",
    "\n",
    "1 1 0 0 \n",
    "\n",
    "1 1 1 0 \n",
    "\n",
    "1 1 1 1"
   ]
  },
  {
   "cell_type": "code",
   "execution_count": null,
   "metadata": {},
   "outputs": [],
   "source": []
  },
  {
   "cell_type": "code",
   "execution_count": null,
   "metadata": {},
   "outputs": [],
   "source": [
    "Программа получает на вход натуральное число N (2 ≤ N ≤100, N - четное). Выведите на экран таблицу размером NxN, нижний угол первой четверти которой заполнен единицами, а все остальные элементы нулями.\n",
    "\n",
    "Пример\n",
    "\n",
    "Входные значения \n",
    "\n",
    "6 \n",
    "\n",
    "Выходные значения\n",
    "1 0 0 0 0 0 \n",
    "\n",
    "1 1 0 0 0 0 \n",
    "\n",
    "1 1 1 0 0 0 \n",
    "\n",
    "0 0 0 0 0 0 \n",
    "\n",
    "0 0 0 0 0 0 \n",
    "\n",
    "0 0 0 0 0 0"
   ]
  },
  {
   "cell_type": "code",
   "execution_count": null,
   "metadata": {},
   "outputs": [],
   "source": []
  },
  {
   "cell_type": "code",
   "execution_count": null,
   "metadata": {},
   "outputs": [],
   "source": []
  },
  {
   "cell_type": "code",
   "execution_count": null,
   "metadata": {},
   "outputs": [],
   "source": []
  }
 ],
 "metadata": {
  "kernelspec": {
   "display_name": "Python 3",
   "language": "python",
   "name": "python3"
  },
  "language_info": {
   "codemirror_mode": {
    "name": "ipython",
    "version": 3
   },
   "file_extension": ".py",
   "mimetype": "text/x-python",
   "name": "python",
   "nbconvert_exporter": "python",
   "pygments_lexer": "ipython3",
   "version": "3.8.3"
  }
 },
 "nbformat": 4,
 "nbformat_minor": 4
}
