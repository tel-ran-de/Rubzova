{
 "cells": [
  {
   "cell_type": "markdown",
   "metadata": {},
   "source": [
    "### Основные команды SQL, которые должен знать каждый"
   ]
  },
  {
   "cell_type": "markdown",
   "metadata": {},
   "source": [
    "#### SHOW DATABASES\n",
    "SQL-команда, которая отвечает за просмотр доступных баз данных.\n",
    "#### CREATE DATABASE\n",
    "Команда для создания новой базы данных.\n",
    "#### USE\n",
    "С помощью этой SQL-команды USE <database_name> выбирается база данных, необходимая для дальнейшей работы с ней.\n",
    "DROP DATABASE\n",
    "Стандартная SQL-команда для удаления целой базы данных.\n",
    "#### SHOW TABLES\n",
    "С помощью этой несложной команды можно увидеть все таблицы, которые доступны в базе данных.\n",
    "#### CREATE TABLE\n",
    "SQL-команда для создания новой таблицы:"
   ]
  },
  {
   "cell_type": "code",
   "execution_count": null,
   "metadata": {},
   "outputs": [],
   "source": [
    "CREATE TABLE <table_name1> (\n",
    "  <col_name1><col_type1>,\n",
    "  <col_name2><col_type2>,\n",
    "  <col_name3><col_type3>\n",
    "  PRIMARY KEY(<col_name1>),\n",
    "  FOREIGN KEY(<col_name2>) REFERENCES <table_name2>(<col_name2>)\n",
    ");\n"
   ]
  },
  {
   "cell_type": "markdown",
   "metadata": {},
   "source": [
    "Ограничения целостности при использовании CREATE TABLE\n",
    "Может понадобиться создать ограничения для определённых столбцов в таблице. При создании таблицы можно задать следующие ограничения:\n",
    "\n",
    "ячейка таблицы не может иметь значение NULL;\n",
    "первичный ключ — PRIMARY KEY(col_name1, col_name2, …);\n",
    "внешний ключ — FOREIGN KEY(col_namex1, …, col_namexn) REFERENCES table_name(col_namex1, …, col_namexn).\n",
    "Можно задать больше одного первичного ключа. В этом случае получится составной первичный ключ.\n",
    "\n",
    "Пример\n",
    "Создайте таблицу «instructor»:\n"
   ]
  },
  {
   "cell_type": "code",
   "execution_count": null,
   "metadata": {},
   "outputs": [],
   "source": [
    "CREATE TABLE instructor (\n",
    "  ID CHAR(5),\n",
    "  name VARCHAR(20) NOT NULL,\n",
    "  dept_name VARCHAR(20),\n",
    "  salary NUMERIC(8,2),\n",
    "  PRIMARY KEY (ID),\n",
    "  FOREIGN KEY (dept_name) REFERENCES department(dept_name)\n",
    ");\n"
   ]
  },
  {
   "cell_type": "markdown",
   "metadata": {},
   "source": [
    "#### DESCRIBE\n",
    "С помощью DESCRIBE <table_name> можно просмотреть различные сведения (тип значений, является ключом или нет) о столбцах таблицы.\n",
    "INSERT\n",
    "Команда INSERT INTO <table_name> в SQL отвечает за добавление данных в таблицу:\n",
    "\n",
    "#### INSERT \n"
   ]
  },
  {
   "cell_type": "code",
   "execution_count": null,
   "metadata": {},
   "outputs": [],
   "source": [
    "INTO <table_name> (<col_name1>, <col_name2>, <col_name3>, …)\n",
    "  VALUES (<value1>, <value2>, <value3>, …);\n"
   ]
  },
  {
   "cell_type": "markdown",
   "metadata": {},
   "source": [
    "При добавлении данных в каждый столбец таблицы не требуется указывать названия столбцов.\n",
    "\n"
   ]
  },
  {
   "cell_type": "code",
   "execution_count": null,
   "metadata": {},
   "outputs": [],
   "source": [
    "INSERT INTO <table_name>\n",
    "  VALUES (<value1>, <value2>, <value3>, …);"
   ]
  },
  {
   "cell_type": "markdown",
   "metadata": {},
   "source": [
    "#### UPDATE\n",
    "SQL-команда для обновления данных таблицы:\n"
   ]
  },
  {
   "cell_type": "code",
   "execution_count": null,
   "metadata": {},
   "outputs": [],
   "source": [
    "    \n",
    "UPDATE <table_name>\n",
    "  SET <col_name1> = <value1>, <col_name2> = <value2>, ...\n",
    "  WHERE <condition>;"
   ]
  },
  {
   "cell_type": "markdown",
   "metadata": {},
   "source": [
    "#### DELETE\n",
    "SQL-команда DELETE FROM <table_name> используется для удаления данных из таблицы.\n",
    "\n",
    "#### DROP TABLE\n",
    "А так можно удалить всю таблицу целиком.\n",
    "\n",
    "#### SELECT\n",
    "Далее мы рассмотрим основные команды SQL, которые позволяют работать непосредственно с данными. К одной из таких SQL-команд относится SELECT для получения данных из выбранной таблицы:\n"
   ]
  },
  {
   "cell_type": "code",
   "execution_count": null,
   "metadata": {},
   "outputs": [],
   "source": [
    "SELECT <col_name1>, <col_name2>, …\n",
    "  FROM <table_name>;\n",
    "Следующей командой можно вывести все данные из таблицы:\n",
    "\n",
    "SELECT * FROM <table_name>;"
   ]
  },
  {
   "cell_type": "markdown",
   "metadata": {},
   "source": [
    "#### SELECT DISTINCT\n",
    "В столбцах таблицы могут содержаться повторяющиеся данные. Используйте SELECT DISTINCT для получения только неповторяющихся данных.\n"
   ]
  },
  {
   "cell_type": "code",
   "execution_count": null,
   "metadata": {},
   "outputs": [],
   "source": [
    "SELECT DISTINCT <col_name1>, <col_name2>, …\n",
    "  FROM <table_name>;"
   ]
  },
  {
   "cell_type": "markdown",
   "metadata": {},
   "source": [
    "#### WHERE\n",
    "Можно использовать ключевое слово WHERE в SELECT для указания условий в запросе:\n",
    "\n"
   ]
  },
  {
   "cell_type": "code",
   "execution_count": null,
   "metadata": {},
   "outputs": [],
   "source": [
    "SELECT <col_name1>, <col_name2>, …\n",
    "  FROM <table_name>\n",
    "  WHERE <condition>;"
   ]
  },
  {
   "cell_type": "markdown",
   "metadata": {},
   "source": [
    "В запросе можно задавать следующие условия:\n",
    "\n",
    "сравнение текста;\n",
    "сравнение численных значений;\n",
    "логические операции AND (и), OR (или) и NOT (отрицание).\n",
    "Пример\n",
    "Попробуйте выполнить следующие команды. Обратите внимание на условия, заданные в WHERE:"
   ]
  },
  {
   "cell_type": "code",
   "execution_count": null,
   "metadata": {},
   "outputs": [],
   "source": [
    "SELECT * FROM course WHERE dept_name=’Comp. Sci.’;\n",
    "SELECT * FROM course WHERE credits>3;\n",
    "SELECT * FROM course WHERE dept_name='Comp. Sci.' AND credits>3;\n",
    "SQL-команды: пример вывода с WHERE\n"
   ]
  },
  {
   "cell_type": "markdown",
   "metadata": {},
   "source": [
    "#### GROUP BY\n",
    "Оператор GROUP BY часто используется с агрегатными функциями, такими как COUNT, MAX, MIN, SUM и AVG, для группировки выходных значений.\n",
    "\n"
   ]
  },
  {
   "cell_type": "code",
   "execution_count": null,
   "metadata": {},
   "outputs": [],
   "source": [
    "SELECT <col_name1>, <col_name2>, …\n",
    "  FROM <table_name>\n",
    "  GROUP BY <col_namex>;\n"
   ]
  },
  {
   "cell_type": "markdown",
   "metadata": {},
   "source": [
    "Пример\n",
    "Выведем количество курсов для каждого факультета:"
   ]
  },
  {
   "cell_type": "code",
   "execution_count": null,
   "metadata": {},
   "outputs": [],
   "source": [
    "SELECT COUNT(course_id), dept_name\n",
    "  FROM course\n",
    "  GROUP BY dept_name;"
   ]
  },
  {
   "cell_type": "markdown",
   "metadata": {},
   "source": [
    "Задание 1.\n"
   ]
  },
  {
   "cell_type": "markdown",
   "metadata": {},
   "source": [
    "Выберите базу данных student_info"
   ]
  },
  {
   "cell_type": "markdown",
   "metadata": {},
   "source": [
    " Просмотрите строки из таблиц courses, exam_result и др."
   ]
  },
  {
   "cell_type": "markdown",
   "metadata": {},
   "source": [
    "Посмотрите столбцы StudentName таблицы Student"
   ]
  },
  {
   "cell_type": "markdown",
   "metadata": {},
   "source": [
    "Задание 2."
   ]
  },
  {
   "cell_type": "markdown",
   "metadata": {},
   "source": [
    " Всех экзаменационные дни, которые проходят в аудитории 2408."
   ]
  },
  {
   "cell_type": "markdown",
   "metadata": {},
   "source": [
    "Соберите запрос (из следующих фрагментов), выдающий список 341 группы (из демонстрационной базы) в порядке убывания номеров зачеток. "
   ]
  },
  {
   "cell_type": "markdown",
   "metadata": {},
   "source": [
    "Соберите запрос (из следующих фрагментов), выдающий номера групп, в которых есть более 10 студентов "
   ]
  },
  {
   "cell_type": "markdown",
   "metadata": {},
   "source": [
    "Соберите запрос, который укажет специализацию для каждого студента"
   ]
  },
  {
   "cell_type": "markdown",
   "metadata": {},
   "source": [
    "Соберите запрос про студентов-отличников (Фрагменты могут использоваться не все)."
   ]
  },
  {
   "cell_type": "markdown",
   "metadata": {},
   "source": [
    "Соберите запрос список студентов-двоечников."
   ]
  },
  {
   "cell_type": "markdown",
   "metadata": {},
   "source": [
    "Соберите запрос список студентов-двоечников в группе 341."
   ]
  },
  {
   "cell_type": "markdown",
   "metadata": {},
   "source": [
    "Отобразит общее число студентов в каждой группе."
   ]
  },
  {
   "cell_type": "markdown",
   "metadata": {},
   "source": [
    "В помощь https://andreyex.ru/bazy-dannyx/baza-dannyx-mysql/25-primerov-komandy-select-v-mysql/"
   ]
  },
  {
   "cell_type": "code",
   "execution_count": null,
   "metadata": {},
   "outputs": [],
   "source": []
  }
 ],
 "metadata": {
  "kernelspec": {
   "display_name": "Python 3",
   "language": "python",
   "name": "python3"
  },
  "language_info": {
   "codemirror_mode": {
    "name": "ipython",
    "version": 3
   },
   "file_extension": ".py",
   "mimetype": "text/x-python",
   "name": "python",
   "nbconvert_exporter": "python",
   "pygments_lexer": "ipython3",
   "version": "3.8.3"
  }
 },
 "nbformat": 4,
 "nbformat_minor": 4
}
