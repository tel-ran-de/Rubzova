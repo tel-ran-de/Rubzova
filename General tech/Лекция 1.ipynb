{
 "cells": [
  {
   "cell_type": "markdown",
   "metadata": {},
   "source": [
    "## Вводная лекция (содержание и разделы курса, место баз данных в различных информационных системах)"
   ]
  },
  {
   "cell_type": "markdown",
   "metadata": {},
   "source": [
    "1. Гарсиа-Молина, Ульман, Уидом. Системы баз данных. Полный курс.— М.: Вильямс, 2003.\n",
    "2. Дейт Кристофер, Введение в системы баз данных. — М.: Вильямс, 2006.\n",
    "3. Кузнецов С. Д. Основы баз данных. — М.: Бином, 2007.\n",
    "4. Ульман Джеффри, Уидом Дженнифер. Введение в системы баз данных — Лори, 2006 г.\n",
    "5. Celko’s Joe. Thinking in sets. Auxiliary, Temporal, and Virtual Tables in SQL. —Morgan Kaufmann, 2008.\n",
    "6. Celko’s Joe. SQL for smarties: advanced sql programming. — Morgan Kaufmann, 2014.\n",
    "7. http://www.mysql.ru/docs/."
   ]
  },
  {
   "cell_type": "markdown",
   "metadata": {},
   "source": [
    "База данных (БД) — это организованная структура, предназначенная для хранения, изменения и обработки взаимосвязанной информации, преимущественно больших объемов.\n",
    "\n",
    "С точки зрения программиста: массив информации, созданный в некоторой системе управления БД.\n",
    "С точки зрения пользователя: массив информации, доступной для проведения в нем поиска.\n",
    "С точки зрения информационного рынка: самостоятельный товар в форме упорядоченного массива машиночитаемой информации."
   ]
  },
  {
   "cell_type": "markdown",
   "metadata": {},
   "source": [
    "Полезные ссылки"
   ]
  },
  {
   "cell_type": "code",
   "execution_count": null,
   "metadata": {},
   "outputs": [],
   "source": [
    "https://academy.oracle.com/en/membership-join-oracle-academy.html\n",
    "http://www.inf.vspu.ac.ru/umm_chul/files/pido/lection2.pdf\n",
    "https://sergeygavaga.gitbooks.io/kurs-lektsii-testirovanie-programnogo-obespecheni/content/lektsiya-6-ch1-arhitektura-klient-server.html       "
   ]
  },
  {
   "cell_type": "markdown",
   "metadata": {},
   "source": [
    "Homework: изучить теорию. "
   ]
  },
  {
   "cell_type": "code",
   "execution_count": null,
   "metadata": {},
   "outputs": [],
   "source": []
  }
 ],
 "metadata": {
  "kernelspec": {
   "display_name": "Python 3",
   "language": "python",
   "name": "python3"
  },
  "language_info": {
   "codemirror_mode": {
    "name": "ipython",
    "version": 3
   },
   "file_extension": ".py",
   "mimetype": "text/x-python",
   "name": "python",
   "nbconvert_exporter": "python",
   "pygments_lexer": "ipython3",
   "version": "3.8.3"
  }
 },
 "nbformat": 4,
 "nbformat_minor": 4
}
