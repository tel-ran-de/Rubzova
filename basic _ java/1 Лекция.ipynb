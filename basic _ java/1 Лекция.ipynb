{
 "cells": [
  {
   "cell_type": "code",
   "execution_count": null,
   "metadata": {},
   "outputs": [],
   "source": [
    "public class Main {\n",
    "\n",
    "    public static void main(String[] args) {\n",
    "\t// write your code here\n",
    "        int a = 5;\n",
    "        int b = 9;\n",
    "        int c = a+b;\n",
    "\n",
    "        System.out.println(\"a =\" + a);\n",
    "        System.out.println(\"b =\" + b);\n",
    "        System.out.println(\"a + b =\" + c);\n",
    "    }\n",
    "}"
   ]
  },
  {
   "cell_type": "markdown",
   "metadata": {},
   "source": [
    "https://informatics.msk.ru/mod/statements/view.php?id=1135#1"
   ]
  },
  {
   "cell_type": "code",
   "execution_count": null,
   "metadata": {},
   "outputs": [],
   "source": [
    "class HelloWorld {\n",
    "    public static void main(String[] args) {\n",
    "        int a = 5769;\n",
    "        int a1 = a%10;\n",
    "        int a2 = (a/10)%10;\n",
    "        int a3 =(a/100)%10 ;\n",
    "        int a4 =a/1000 ;\n",
    "        int t=a1+a2+a3+a4;\n",
    "\n",
    "        System.out.println(\"Sum =\" + t);\n",
    "\n",
    "\n",
    "    }\n",
    "}"
   ]
  },
  {
   "cell_type": "code",
   "execution_count": null,
   "metadata": {},
   "outputs": [],
   "source": []
  },
  {
   "cell_type": "code",
   "execution_count": null,
   "metadata": {},
   "outputs": [],
   "source": [
    "class HelloWorld {\n",
    "    public static void main(String[] args) {\n",
    "        int a = 13257;\n",
    "        int a1 = a/3600;\n",
    "        int a2 = (a-3600*a1)/60;\n",
    "        System.out.println(\"It is \"+a1+\" hours \"+a2+\" minutes.\");\n",
    "\n",
    "    }\n",
    "}"
   ]
  },
  {
   "cell_type": "markdown",
   "metadata": {},
   "source": [
    "https://informatics.msk.ru/mod/statements/view.php?id=1135&chapterid=1477#1"
   ]
  },
  {
   "cell_type": "code",
   "execution_count": null,
   "metadata": {},
   "outputs": [],
   "source": [
    "class HelloWorld {\n",
    "    public static void main(String[] args) {\n",
    "        int k=1331;\n",
    "        int k1=k/100;\n",
    "\n",
    "        int k3=(k/10)%10;\n",
    "        int k4=k%10;\n",
    "        int t=(k4*10+k3) - k1+1;\n",
    "    System.out.println(t);\n",
    "\n",
    "    }\n",
    "}"
   ]
  },
  {
   "cell_type": "code",
   "execution_count": null,
   "metadata": {},
   "outputs": [],
   "source": [
    "class HelloWorld {\n",
    "    public static void main(String[] args) {\n",
    "        int n=3;\n",
    "        int k=14; \n",
    "        \n",
    "        int k3=k/n;\n",
    "        System.out.println(\"Dostal \"+k3);\n",
    "        int k4=k%n;\n",
    "        System.out.println(\" kors \"+k4);\n",
    "\n",
    "\n",
    "    }\n",
    "}"
   ]
  },
  {
   "cell_type": "markdown",
   "metadata": {},
   "source": [
    "https://informatics.msk.ru/course/view.php?id=68"
   ]
  },
  {
   "cell_type": "code",
   "execution_count": null,
   "metadata": {},
   "outputs": [],
   "source": [
    "import java.util.Scanner;\n",
    "\n",
    "\n",
    "class HelloWorld {\n",
    "    public static void main(String[] args) {\n",
    "        Scanner rd = new Scanner(System.in);\n",
    "        int klass1= rd.nextInt();\t\n",
    "\t\tint klass2 = rd.nextInt();\n",
    "\t\tint klass3 = rd.nextInt();\n",
    "\t\t\n",
    "\n",
    "        int t=klass1/2+klass1%2 + klass2/2+klass2%2+klass3/2+klass3%2;\n",
    "\n",
    "        System.out.println(t);\n",
    "\n",
    "\n",
    "\n",
    "    }"
   ]
  },
  {
   "cell_type": "markdown",
   "metadata": {},
   "source": [
    "Ссылки"
   ]
  },
  {
   "cell_type": "markdown",
   "metadata": {},
   "source": [
    "https://www.w3resource.com/java-tutorial/"
   ]
  },
  {
   "cell_type": "markdown",
   "metadata": {},
   "source": [
    "https://www.programiz.com/java-programming"
   ]
  },
  {
   "cell_type": "markdown",
   "metadata": {},
   "source": [
    "Домашнее задание"
   ]
  },
  {
   "cell_type": "markdown",
   "metadata": {},
   "source": [
    "https://informatics.msk.ru/mod/statements/view.php?id=2296&chapterid=2947#1\n",
    "\n",
    "https://informatics.msk.ru/mod/statements/view.php?id=2296&chapterid=2948#1"
   ]
  },
  {
   "cell_type": "code",
   "execution_count": null,
   "metadata": {},
   "outputs": [],
   "source": [
    "Полезные ссылки"
   ]
  },
  {
   "cell_type": "code",
   "execution_count": null,
   "metadata": {},
   "outputs": [],
   "source": [
    "https://drive.google.com/file/d/1FSfwyjccjonfvp5B4wko6feL7BzLFPUD/view\n",
    "https://inf.1sept.ru/view_article.php?ID=200801600   \n",
    "https://www.programiz.com/java-programming/hello-world"
   ]
  }
 ],
 "metadata": {
  "kernelspec": {
   "display_name": "Python 3",
   "language": "python",
   "name": "python3"
  },
  "language_info": {
   "codemirror_mode": {
    "name": "ipython",
    "version": 3
   },
   "file_extension": ".py",
   "mimetype": "text/x-python",
   "name": "python",
   "nbconvert_exporter": "python",
   "pygments_lexer": "ipython3",
   "version": "3.8.3"
  }
 },
 "nbformat": 4,
 "nbformat_minor": 4
}
